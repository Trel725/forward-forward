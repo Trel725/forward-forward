{
 "cells": [
  {
   "cell_type": "markdown",
   "id": "f599a713",
   "metadata": {},
   "source": [
    "# A very simple Python implementation of forward-forward NN training by G. Hinton"
   ]
  },
  {
   "cell_type": "code",
   "execution_count": 1,
   "id": "929116ce",
   "metadata": {},
   "outputs": [],
   "source": [
    "import numpy as np\n",
    "import matplotlib.pyplot as plt\n",
    "from sklearn import datasets\n",
    "from sklearn.preprocessing import OneHotEncoder, StandardScaler\n",
    "from sklearn.model_selection import train_test_split\n",
    "\n",
    "iris = datasets.load_iris()"
   ]
  },
  {
   "cell_type": "code",
   "execution_count": 2,
   "id": "9bbce91b",
   "metadata": {},
   "outputs": [],
   "source": [
    "# learning rate\n",
    "LR = 1e-1"
   ]
  },
  {
   "cell_type": "markdown",
   "id": "3779d889",
   "metadata": {},
   "source": [
    "define an activation function to use and its derivative (needed to compute derivatives for updating weights). Hinton suggested relu-activated network, but in the experiments sigmoid seem to work better"
   ]
  },
  {
   "cell_type": "code",
   "execution_count": 3,
   "id": "f7fee54d",
   "metadata": {},
   "outputs": [],
   "source": [
    "def act(x):\n",
    "    return 1/(1+np.exp(-x))\n",
    "\n",
    "def act_prime(x):\n",
    "    return act(x) * (1 - act(x))\n",
    "\n",
    "# def act(x):\n",
    "#     return np.maximum(x, 0.0)\n",
    "\n",
    "# def act_prime(x):\n",
    "#     return (x > 0).astype(float)"
   ]
  },
  {
   "cell_type": "markdown",
   "id": "13dc5365",
   "metadata": {},
   "source": [
    "this is a very simple class for fully-connected layer, holding weights and biases + implementing gradient computation. Gradient computation method assumes that \"goodness\" function is sum of squared activations"
   ]
  },
  {
   "cell_type": "code",
   "execution_count": 4,
   "id": "1bf5b462",
   "metadata": {},
   "outputs": [],
   "source": [
    "class FullyConnected():\n",
    "    def __init__(self, n_in, n_out):\n",
    "        self.W = np.random.normal(size=(n_out, n_in))\n",
    "        self.b = np.zeros(n_out)\n",
    "        self.gradW = None\n",
    "        self.gradb = None\n",
    "        \n",
    "    def forward(self, x):\n",
    "        z = self.W@x + self.b\n",
    "        return act(z)\n",
    "    \n",
    "    def grads(self, x):\n",
    "        z = self.W@x + self.b\n",
    "        return (2*(act_prime(z)*act(z))[:, None] @ x[None,:]), 2*act(z)*act_prime(z)\n",
    "\n",
    "    def update(self, x, accumulate=True, neg=False):\n",
    "        \"\"\" when accumulate is true, accumulates the gradients,\n",
    "        otherwise applies them to the weights\n",
    "        \"\"\"\n",
    "        k = 1\n",
    "        if neg:\n",
    "            k = -1\n",
    "        if self.gradW is None:\n",
    "            self.gradW, self.gradb = self.grads(x)\n",
    "        else:\n",
    "            dW, db = self.grads(x)\n",
    "            self.gradW += dW\n",
    "            self.gradb += db\n",
    "        if not accumulate:\n",
    "            self.W += k*LR*self.gradW\n",
    "            self.b += k*LR*self.gradb\n",
    "            self.gradW, self.gradb = None, None\n",
    "        return "
   ]
  },
  {
   "cell_type": "code",
   "execution_count": 5,
   "id": "f45deb83",
   "metadata": {},
   "outputs": [],
   "source": [
    "class ForwForwNet:\n",
    "    def __init__(self, inp_width, hidden_width, n_layers):\n",
    "        self.layers = []\n",
    "        for i in range(n_layers):\n",
    "            if i == 0:\n",
    "                self.layers.append(FullyConnected(inp_width, hidden_width))\n",
    "            else:\n",
    "                self.layers.append(FullyConnected(hidden_width, hidden_width))\n",
    "        \n",
    "    def forward(self, x):\n",
    "        \"\"\" performs forward pass by calculating activation of every layer,\n",
    "        normalizing activation vector by its norm and passing it to the\n",
    "        next layer\n",
    "        \"\"\"\n",
    "        prev_act = x\n",
    "        acts = []\n",
    "        for l in self.layers:\n",
    "            act = l.forward(prev_act / np.linalg.norm(prev_act+1e-9))\n",
    "            acts.append(act)\n",
    "            prev_act = act\n",
    "        return acts\n",
    "    \n",
    "    def update(self, x, accumulate=True, neg=False):\n",
    "        \"\"\" greedily updates weights of the network by \n",
    "        calling update on every layer \n",
    "        \"\"\"\n",
    "        acts = self.forward(x)\n",
    "        for a, l in zip([x, *acts[:-1]], self.layers):\n",
    "            l.update(a / np.linalg.norm(a+1e-9), neg=neg, accumulate=accumulate)\n",
    "            \n",
    "    def goodness(self, x):\n",
    "        return (np.array(self.forward(x))**2).sum()"
   ]
  },
  {
   "cell_type": "markdown",
   "id": "28af76f2",
   "metadata": {},
   "source": [
    "load the Iris data and make some preprocessing"
   ]
  },
  {
   "cell_type": "code",
   "execution_count": 6,
   "id": "a8375267",
   "metadata": {},
   "outputs": [],
   "source": [
    "Y = iris['target']\n",
    "X = StandardScaler().fit_transform(iris['data'])\n",
    "# generate good labels by one-hot encoding original labels\n",
    "ohe = OneHotEncoder(sparse=False)\n",
    "Ygood = ohe.fit_transform(Y[:,None]) - 0.5\n",
    "\n",
    "unq = np.unique(Y)\n",
    "# generate bad labels by one-hot encoding wrong labels\n",
    "Ybad = []\n",
    "for label in unq:\n",
    "    Ybad.append(np.random.choice(unq[unq!=label], size=50))\n",
    "Ybad = ohe.transform(np.concatenate(Ybad)[:, None]) - 0.5"
   ]
  },
  {
   "cell_type": "code",
   "execution_count": 7,
   "id": "61c66fc3",
   "metadata": {},
   "outputs": [
    {
     "data": {
      "text/plain": [
       "<matplotlib.image.AxesImage at 0x7f8140542760>"
      ]
     },
     "execution_count": 7,
     "metadata": {},
     "output_type": "execute_result"
    },
    {
     "data": {
      "image/png": "[encoded data removed]",
      "text/plain": [
       "<Figure size 360x360 with 2 Axes>"
      ]
     },
     "metadata": {
      "needs_background": "light"
     },
     "output_type": "display_data"
    }
   ],
   "source": [
    "plt.figure(figsize=(5, 5))\n",
    "plt.subplot(1, 2, 1)\n",
    "plt.imshow(Ygood, aspect=0.1)\n",
    "plt.subplot(1, 2, 2)\n",
    "plt.imshow(Ybad, aspect=0.1)"
   ]
  },
  {
   "cell_type": "markdown",
   "id": "262c8e5e",
   "metadata": {},
   "source": [
    "generate input data by concatenating X and Y"
   ]
  },
  {
   "cell_type": "code",
   "execution_count": 8,
   "id": "93985f5b",
   "metadata": {},
   "outputs": [],
   "source": [
    "Xgood = np.hstack([X, Ygood])\n",
    "Xbad = np.hstack([X, Ybad])"
   ]
  },
  {
   "cell_type": "markdown",
   "id": "81c2d7ab",
   "metadata": {},
   "source": [
    "and finally instantiate network"
   ]
  },
  {
   "cell_type": "code",
   "execution_count": 9,
   "id": "a6186080",
   "metadata": {},
   "outputs": [],
   "source": [
    "ffn = ForwForwNet(inp_width=7, hidden_width=128, n_layers=4)"
   ]
  },
  {
   "cell_type": "markdown",
   "id": "2a71fe0f",
   "metadata": {},
   "source": [
    "define a helper function which would scan through possible labels and return the label with maximum goodness"
   ]
  },
  {
   "cell_type": "code",
   "execution_count": 10,
   "id": "d8070775",
   "metadata": {},
   "outputs": [],
   "source": [
    "unq_oh = ohe.transform(unq[:,None])\n",
    "\n",
    "def get_preds(x):\n",
    "    return unq_oh[np.argmax([ffn.goodness(np.array([*x, *y_])) for y_ in unq_oh])]"
   ]
  },
  {
   "cell_type": "code",
   "execution_count": 11,
   "id": "82a37c59",
   "metadata": {},
   "outputs": [],
   "source": [
    "X_train, X_test, X_good_train, _, X_bad_train, _, Y_train, Y_test = train_test_split(X, Xgood, Xbad, Y)"
   ]
  },
  {
   "cell_type": "code",
   "execution_count": 12,
   "id": "8a2f2c8e",
   "metadata": {
    "scrolled": false
   },
   "outputs": [
    {
     "name": "stdout",
     "output_type": "stream",
     "text": [
      "train_acc: 0.33035714285714285\n",
      "val_acc: 0.34210526315789475\n",
      "train_acc: 0.48214285714285715\n",
      "val_acc: 0.47368421052631576\n",
      "train_acc: 0.6785714285714286\n",
      "val_acc: 0.6052631578947368\n",
      "train_acc: 0.7589285714285714\n",
      "val_acc: 0.7105263157894737\n",
      "train_acc: 0.8214285714285714\n",
      "val_acc: 0.868421052631579\n",
      "train_acc: 0.9196428571428571\n",
      "val_acc: 0.8947368421052632\n",
      "train_acc: 0.9375\n",
      "val_acc: 0.8947368421052632\n",
      "train_acc: 0.9464285714285714\n",
      "val_acc: 0.9473684210526315\n",
      "train_acc: 0.9553571428571429\n",
      "val_acc: 0.9210526315789473\n",
      "train_acc: 0.9553571428571429\n",
      "val_acc: 0.9473684210526315\n"
     ]
    }
   ],
   "source": [
    "for i in range(100):\n",
    "    # pass 1: \"good pass\": update the weights for good data\n",
    "    # note that weights are only updated once after gradients for the\n",
    "    # whole dataset is accumulated, i.e. batch_size == dataset size\n",
    "    for x in X_good_train:\n",
    "        ffn.update(x, accumulate=True)\n",
    "    ffn.update(x, accumulate=False) # this is actual step\n",
    "    good = ffn.goodness(x)\n",
    "\n",
    "    # pass 2: \"bad pass\": update the weights for bad data\n",
    "    # again, weights are only updated once after gradients for the\n",
    "    # whole dataset is accumulated, i.e. batch_size == dataset size\n",
    "    for x in X_bad_train:\n",
    "        ffn.update(x, accumulate=True, neg=True)\n",
    "    ffn.update(x, accumulate=False, neg=True)\n",
    "    bad = ffn.goodness(x)\n",
    "#     print(good, bad)\n",
    "    #print statistics\n",
    "    if i % 10 == 0:\n",
    "        print(\"train_acc:\", np.mean(np.argmax([get_preds(x) for x in X_train], 1) == Y_train))\n",
    "        print(\"val_acc:\", np.mean(np.argmax([get_preds(x) for x in X_test], 1) == Y_test))"
   ]
  },
  {
   "cell_type": "code",
   "execution_count": 13,
   "id": "79e19c73",
   "metadata": {},
   "outputs": [
    {
     "data": {
      "text/plain": [
       "<matplotlib.image.AxesImage at 0x7f814045cd00>"
      ]
     },
     "execution_count": 13,
     "metadata": {},
     "output_type": "execute_result"
    },
    {
     "data": {
      "image/png": "[encoded data removed]",
      "text/plain": [
       "<Figure size 432x288 with 1 Axes>"
      ]
     },
     "metadata": {
      "needs_background": "light"
     },
     "output_type": "display_data"
    }
   ],
   "source": [
    "plt.imshow(np.array([get_preds(x) for x in X]), aspect=0.1)"
   ]
  }
 ],
 "metadata": {
  "kernelspec": {
   "display_name": "Python 3",
   "language": "python",
   "name": "python3"
  },
  "language_info": {
   "codemirror_mode": {
    "name": "ipython",
    "version": 3
   },
   "file_extension": ".py",
   "mimetype": "text/x-python",
   "name": "python",
   "nbconvert_exporter": "python",
   "pygments_lexer": "ipython3",
   "version": "3.9.1"
  }
 },
 "nbformat": 4,
 "nbformat_minor": 5
}
